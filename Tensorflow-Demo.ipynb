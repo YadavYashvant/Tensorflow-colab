{
  "nbformat": 4,
  "nbformat_minor": 0,
  "metadata": {
    "colab": {
      "provenance": [],
      "authorship_tag": "ABX9TyO8RXBix27GrkadnkChzBPT",
      "include_colab_link": true
    },
    "kernelspec": {
      "name": "python3",
      "display_name": "Python 3"
    },
    "language_info": {
      "name": "python"
    }
  },
  "cells": [
    {
      "cell_type": "markdown",
      "metadata": {
        "id": "view-in-github",
        "colab_type": "text"
      },
      "source": [
        "<a href=\"https://colab.research.google.com/gist/YadavYashvant/d969973840243635fe5a1cc5a17016b3/untitled0.ipynb\" target=\"_parent\"><img src=\"https://colab.research.google.com/assets/colab-badge.svg\" alt=\"Open In Colab\"/></a>"
      ]
    },
    {
      "cell_type": "code",
      "source": [
        "import tensorflow as tf"
      ],
      "metadata": {
        "id": "mMN490OqeiDs"
      },
      "execution_count": 4,
      "outputs": []
    },
    {
      "cell_type": "code",
      "source": [
        "import numpy as np\n",
        "import logging\n",
        "logger = tf.get_logger()\n",
        "logger.setLevel(logging.ERROR)"
      ],
      "metadata": {
        "id": "lieAxh9ljiD9"
      },
      "execution_count": 5,
      "outputs": []
    },
    {
      "cell_type": "markdown",
      "source": [
        "**Setting up training data**"
      ],
      "metadata": {
        "id": "g1W8Sz-JfG6l"
      }
    },
    {
      "cell_type": "code",
      "source": [
        "\n",
        "celcius_q = np.array([-40,-10, 0, 8, 15, 22, 38], dtype=float)\n",
        "fahrenheit_a = np.array([-40, 14, 32, 46, 59, 72, 100], dtype=float)\n",
        "\n",
        "for i,c in enumerate(celcius_q):\n",
        "  print(\"{} degree Celcius = {} degree Fahrenheit\".format(c, fahrenheit_a[i]))"
      ],
      "metadata": {
        "colab": {
          "base_uri": "https://localhost:8080/"
        },
        "id": "YVmPnjmXfPkN",
        "outputId": "53b32279-c874-4ff5-ae6c-4a09defc79fa"
      },
      "execution_count": 8,
      "outputs": [
        {
          "output_type": "stream",
          "name": "stdout",
          "text": [
            "-40.0 degree Celcius = -40.0 degree Fahrenheit\n",
            "-10.0 degree Celcius = 14.0 degree Fahrenheit\n",
            "0.0 degree Celcius = 32.0 degree Fahrenheit\n",
            "8.0 degree Celcius = 46.0 degree Fahrenheit\n",
            "15.0 degree Celcius = 59.0 degree Fahrenheit\n",
            "22.0 degree Celcius = 72.0 degree Fahrenheit\n",
            "38.0 degree Celcius = 100.0 degree Fahrenheit\n"
          ]
        }
      ]
    },
    {
      "cell_type": "code",
      "source": [
        "l0 = tf.keras.layers.Dense(units=1, input_shape=[1])"
      ],
      "metadata": {
        "id": "jc_LdQ11lmb-"
      },
      "execution_count": 9,
      "outputs": []
    },
    {
      "cell_type": "code",
      "source": [
        "model = tf.keras.Sequential([l0])"
      ],
      "metadata": {
        "id": "QsGZ9xzClzDF"
      },
      "execution_count": 10,
      "outputs": []
    },
    {
      "cell_type": "markdown",
      "source": [
        "Compiling the model, with loss and optimizer functions"
      ],
      "metadata": {
        "id": "Zh6Njik5mFVc"
      }
    },
    {
      "cell_type": "code",
      "source": [
        "model.compile(loss='mean_squared_error', optimizer=tf.keras.optimizers.Adam(0.1))"
      ],
      "metadata": {
        "id": "3GO2DFiumMyv"
      },
      "execution_count": 11,
      "outputs": []
    },
    {
      "cell_type": "markdown",
      "source": [
        "Training the model by calling fit method"
      ],
      "metadata": {
        "id": "wDBShQaimfqU"
      }
    },
    {
      "cell_type": "code",
      "source": [
        "history = model.fit(celcius_q, fahrenheit_a, epochs=500, verbose=False)\n",
        "print(\"Finished training\")"
      ],
      "metadata": {
        "colab": {
          "base_uri": "https://localhost:8080/"
        },
        "id": "W1GvNcQImo1F",
        "outputId": "581620c6-e96d-4e77-af34-e465c6b2d76c"
      },
      "execution_count": 12,
      "outputs": [
        {
          "output_type": "stream",
          "name": "stdout",
          "text": [
            "Finished training\n"
          ]
        }
      ]
    },
    {
      "cell_type": "markdown",
      "source": [
        "Displaying the training statistics\n"
      ],
      "metadata": {
        "id": "i7GmraPhnB0E"
      }
    },
    {
      "cell_type": "markdown",
      "source": [],
      "metadata": {
        "id": "FYWuZy3Ann9W"
      }
    },
    {
      "cell_type": "code",
      "source": [
        "import matplotlib.pyplot as pplt\n",
        "pplt.xlabel('Epoch Number')\n",
        "pplt.ylabel(\"Loss Magnitude\")\n",
        "pplt.plot(history.history['loss'])"
      ],
      "metadata": {
        "colab": {
          "base_uri": "https://localhost:8080/",
          "height": 466
        },
        "id": "kDOAVX9NnFcy",
        "outputId": "cd863860-3e12-4be5-b3a0-d618996531ce"
      },
      "execution_count": 13,
      "outputs": [
        {
          "output_type": "execute_result",
          "data": {
            "text/plain": [
              "[<matplotlib.lines.Line2D at 0x7f5f7c6349d0>]"
            ]
          },
          "metadata": {},
          "execution_count": 13
        },
        {
          "output_type": "display_data",
          "data": {
            "text/plain": [
              "<Figure size 640x480 with 1 Axes>"
            ],
            "image/png": "[encoded data removed]"
          },
          "metadata": {}
        }
      ]
    },
    {
      "cell_type": "markdown",
      "source": [
        "Using the trained model to predict the value being entered"
      ],
      "metadata": {
        "id": "TVWmfeRpns6V"
      }
    },
    {
      "cell_type": "code",
      "source": [
        "print(model.predict([100.0]))"
      ],
      "metadata": {
        "colab": {
          "base_uri": "https://localhost:8080/"
        },
        "id": "tccwWsPtn1Uc",
        "outputId": "f5ac1add-365d-4a72-c622-205b7b661036"
      },
      "execution_count": 14,
      "outputs": [
        {
          "output_type": "stream",
          "name": "stdout",
          "text": [
            "1/1 [==============================] - 0s 175ms/step\n",
            "[[211.27863]]\n"
          ]
        }
      ]
    }
  ]
}
